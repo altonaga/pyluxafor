{
 "cells": [
  {
   "cell_type": "code",
   "execution_count": 0,
   "metadata": {
    "collapsed": true
   },
   "outputs": [],
   "source": [
    "import time\n",
    "\n",
    "from luxafor import luxafor\n",
    "\n",
    "luxa = luxafor.Luxafor()"
   ]
  },
  {
   "cell_type": "code",
   "execution_count": 0,
   "metadata": {
    "collapsed": true
   },
   "outputs": [],
   "source": [
    "FRONT_LEDS = (luxafor.Leds.LED1, luxafor.Leds.LED2, luxafor.Leds.LED3)\n",
    "BACK_LEDS = (luxafor.Leds.LED4, luxafor.Leds.LED5, luxafor.Leds.LED6)"
   ]
  },
  {
   "cell_type": "code",
   "execution_count": 0,
   "metadata": {
    "collapsed": true
   },
   "outputs": [],
   "source": [
    "luxa.turn_off()"
   ]
  },
  {
   "cell_type": "code",
   "execution_count": 0,
   "metadata": {
    "collapsed": false
   },
   "outputs": [],
   "source": [
    "def kitt():\n",
    "    \"\"\"\n",
    "    Displays the back leds as Kitt's front led row.\n",
    "    \"\"\"\n",
    "    luxa.turn_off()\n",
    "    \n",
    "    def turn_on(led):\n",
    "        luxa.fade(255, 0, 0, speed=8, led=led)\n",
    "        \n",
    "    def turn_off(led):\n",
    "        luxa.fade(0, 0, 0, speed=8, led=led)\n",
    "    \n",
    "    while True:\n",
    "        for led in BACK_LEDS + tuple(reversed(BACK_LEDS)):\n",
    "            turn_on(led)\n",
    "            time.sleep(0.15)\n",
    "            turn_off(led)"
   ]
  },
  {
   "cell_type": "code",
   "execution_count": 0,
   "metadata": {
    "collapsed": false
   },
   "outputs": [],
   "source": [
    "def progress_bar(percent=50, color=(0, 255, 0)):\n",
    "    piece = 100/3\n",
    "    \n",
    "    # Led 4\n",
    "    led4_color = color\n",
    "    if percent <= piece:\n",
    "        led_percent = (100*percent)/piece\n",
    "        led4_color = tuple(int((led_percent*y)/100) for y in color)\n",
    "        \n",
    "    # Led 5\n",
    "    led5_color = (0, )*3\n",
    "    if percent > piece*2:\n",
    "        led5_color = color\n",
    "    if piece < percent <= piece*2:\n",
    "        led_percent = ((100*(percent-piece))/piece)\n",
    "        led5_color = tuple(int((led_percent*y)/100) for y in color)\n",
    "        \n",
    "    # Led 6\n",
    "    led6_color = (0, )*3\n",
    "    if percent >= piece*2:\n",
    "        led_percent = (100*(percent-piece*2))/piece\n",
    "        led6_color = tuple(int((led_percent*y)/100) for y in color)\n",
    "\n",
    "    luxa.set_color(*led4_color, led=luxafor.Leds.LED4)\n",
    "    luxa.set_color(*led5_color, led=luxafor.Leds.LED5)\n",
    "    luxa.set_color(*led6_color, led=luxafor.Leds.LED6)"
   ]
  }
 ],
 "metadata": {
  "kernelspec": {
   "display_name": "Python 3",
   "language": "python",
   "name": "python3"
  },
  "language_info": {
   "codemirror_mode": {
    "name": "ipython",
    "version": 3
   },
   "file_extension": ".py",
   "mimetype": "text/x-python",
   "name": "python",
   "nbconvert_exporter": "python",
   "pygments_lexer": "ipython3",
   "version": "3.5.2"
  }
 },
 "nbformat": 4,
 "nbformat_minor": 0
}
